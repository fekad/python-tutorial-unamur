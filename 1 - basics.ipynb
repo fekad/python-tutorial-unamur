{
 "cells": [
  {
   "cell_type": "markdown",
   "metadata": {},
   "source": [
    "# Basics: ASE vs. pymatgen"
   ]
  },
  {
   "cell_type": "markdown",
   "metadata": {},
   "source": [
    "## Constructing molecules"
   ]
  },
  {
   "cell_type": "markdown",
   "metadata": {},
   "source": [
    "ASE:"
   ]
  },
  {
   "cell_type": "code",
   "execution_count": null,
   "metadata": {},
   "outputs": [],
   "source": [
    "from ase import Atoms\n",
    "\n",
    "coords = [[0.000000, 0.000000, 0.000000],\n",
    "          [0.000000, 0.000000, 1.089000],\n",
    "          [1.026719, 0.000000, -0.363000],\n",
    "          [-0.513360, -0.889165, -0.363000],\n",
    "          [-0.513360, 0.889165, -0.363000]]\n",
    "\n",
    "methane_ase = Atoms(symbols=[\"C\", \"H\", \"H\", \"H\", \"H\"], positions=coords)\n",
    "methane_ase"
   ]
  },
  {
   "cell_type": "code",
   "execution_count": null,
   "metadata": {},
   "outputs": [],
   "source": [
    "methane_ase.arrays"
   ]
  },
  {
   "cell_type": "markdown",
   "metadata": {},
   "source": [
    "pymatgen:"
   ]
  },
  {
   "cell_type": "code",
   "execution_count": null,
   "metadata": {},
   "outputs": [],
   "source": [
    "from pymatgen.core import Molecule\n",
    "\n",
    "coords = [[0.000000, 0.000000, 0.000000],\n",
    "          [0.000000, 0.000000, 1.089000],\n",
    "          [1.026719, 0.000000, -0.363000],\n",
    "          [-0.513360, -0.889165, -0.363000],\n",
    "          [-0.513360, 0.889165, -0.363000]]\n",
    "methane = Molecule([\"C\", \"H\", \"H\", \"H\", \"H\"], coords)\n",
    "methane "
   ]
  },
  {
   "cell_type": "markdown",
   "metadata": {},
   "source": [
    "## Constructing crystal structure"
   ]
  },
  {
   "cell_type": "markdown",
   "metadata": {},
   "source": [
    "ASE:"
   ]
  },
  {
   "cell_type": "code",
   "execution_count": null,
   "metadata": {},
   "outputs": [],
   "source": [
    "from ase import Atoms\n",
    "from ase.cell import Cell\n",
    "\n",
    "coords = [[0, 0, 0], [0.75,0.5,0.75]]\n",
    "cell = Cell.fromcellpar([3.84, 3.84, 3.84, 60, 60, 60])\n",
    "\n",
    "atoms = Atoms(symbols=[\"Si\", \"Si\"], cell=cell, scaled_positions=coords)\n",
    "atoms"
   ]
  },
  {
   "cell_type": "markdown",
   "metadata": {},
   "source": [
    "pymatgen:"
   ]
  },
  {
   "cell_type": "code",
   "execution_count": null,
   "metadata": {},
   "outputs": [],
   "source": [
    "from pymatgen.core import Lattice, Structure\n",
    "\n",
    "coords = [[0, 0, 0], [0.75,0.5,0.75]]\n",
    "lattice = Lattice.from_parameters(a=3.84, b=3.84, c=3.84, alpha=120,\n",
    "                                  beta=90, gamma=60)\n",
    "struct = Structure(lattice, [\"Si\", \"Si\"], coords)\n",
    "struct"
   ]
  },
  {
   "cell_type": "code",
   "execution_count": null,
   "metadata": {},
   "outputs": [],
   "source": [
    "struct.sites, struct.site_properties\n"
   ]
  },
  {
   "cell_type": "markdown",
   "metadata": {},
   "source": [
    "## Conversion between ASE and pymatgen"
   ]
  },
  {
   "cell_type": "markdown",
   "metadata": {},
   "source": [
    "Data-driven approach: save and load files (cif, xyz, poscar, etc.)"
   ]
  },
  {
   "cell_type": "markdown",
   "metadata": {},
   "source": [
    "Pythonic way: using an adaptor"
   ]
  },
  {
   "cell_type": "code",
   "execution_count": null,
   "metadata": {},
   "outputs": [],
   "source": [
    "from pymatgen.io.ase import AseAtomsAdaptor"
   ]
  },
  {
   "cell_type": "code",
   "execution_count": null,
   "metadata": {},
   "outputs": [],
   "source": [
    "AseAtomsAdaptor.get_structure(atoms)"
   ]
  },
  {
   "cell_type": "code",
   "execution_count": null,
   "metadata": {},
   "outputs": [],
   "source": [
    "AseAtomsAdaptor.get_atoms(struct)"
   ]
  },
  {
   "cell_type": "markdown",
   "metadata": {},
   "source": [
    "## Visualisation"
   ]
  },
  {
   "cell_type": "code",
   "execution_count": null,
   "metadata": {},
   "outputs": [],
   "source": [
    "from ase.visualize import view\n",
    "# view(methane_ase)\n",
    "# view(methane_ase, viewer='x3d')\n",
    "view(methane_ase, viewer='ngl')"
   ]
  },
  {
   "cell_type": "code",
   "execution_count": null,
   "metadata": {},
   "outputs": [],
   "source": []
  },
  {
   "cell_type": "code",
   "execution_count": null,
   "metadata": {},
   "outputs": [],
   "source": [
    "from jupyter_jsmol import JsmolView\n"
   ]
  },
  {
   "cell_type": "code",
   "execution_count": null,
   "metadata": {},
   "outputs": [],
   "source": [
    "JsmolView.from_str(struct.to('cif'), \"{3 3 3}\")\n"
   ]
  },
  {
   "cell_type": "code",
   "execution_count": null,
   "metadata": {},
   "outputs": [],
   "source": [
    "JsmolView.from_ase(methane_ase)\n"
   ]
  },
  {
   "cell_type": "code",
   "execution_count": null,
   "metadata": {},
   "outputs": [],
   "source": []
  },
  {
   "cell_type": "code",
   "execution_count": null,
   "metadata": {},
   "outputs": [],
   "source": []
  }
 ],
 "metadata": {
  "interpreter": {
   "hash": "262d35cc04ba3798c288ac1885c582df3e6c9c9d57ef53e44c04c1109cb68079"
  },
  "kernelspec": {
   "display_name": "Python 3 (ipykernel)",
   "language": "python",
   "name": "python3"
  },
  "language_info": {
   "codemirror_mode": {
    "name": "ipython",
    "version": 3
   },
   "file_extension": ".py",
   "mimetype": "text/x-python",
   "name": "python",
   "nbconvert_exporter": "python",
   "pygments_lexer": "ipython3",
   "version": "3.9.5"
  }
 },
 "nbformat": 4,
 "nbformat_minor": 2
}
