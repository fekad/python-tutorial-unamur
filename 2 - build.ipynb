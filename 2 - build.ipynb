{
 "cells": [
  {
   "cell_type": "markdown",
   "metadata": {},
   "source": [
    "## Build structures"
   ]
  },
  {
   "cell_type": "markdown",
   "metadata": {},
   "source": [
    "Loading a structure from file. Many format is supported.\n",
    "Loading an ASE atoms object from file:"
   ]
  },
  {
   "cell_type": "code",
   "execution_count": null,
   "metadata": {},
   "outputs": [],
   "source": [
    "from ase.io import read\n",
    "\n",
    "atoms = read(\"data/c2h4.xyz\")\n",
    "atoms"
   ]
  },
  {
   "cell_type": "markdown",
   "metadata": {},
   "source": [
    "Common crystal structures:"
   ]
  },
  {
   "cell_type": "code",
   "execution_count": null,
   "metadata": {},
   "outputs": [],
   "source": [
    "from ase.build import bulk\n",
    "a1 = bulk('Cu', 'fcc', a=3.6)\n",
    "a2 = bulk('Cu', 'fcc', a=3.6, orthorhombic=True)\n",
    "a3 = bulk('Cu', 'fcc', a=3.6, cubic=True)"
   ]
  },
  {
   "cell_type": "code",
   "execution_count": null,
   "metadata": {},
   "outputs": [],
   "source": [
    "atoms = bulk(\"Si\")\n",
    "atoms, atoms.cell.angles()"
   ]
  },
  {
   "cell_type": "markdown",
   "metadata": {},
   "source": [
    "Common molecules "
   ]
  },
  {
   "cell_type": "code",
   "execution_count": null,
   "metadata": {},
   "outputs": [],
   "source": [
    "from ase.build import molecule\n",
    "\n",
    "atoms = molecule('H2O')\n",
    "atoms.get_chemical_symbols(), atoms.get_positions()"
   ]
  },
  {
   "cell_type": "code",
   "execution_count": null,
   "metadata": {},
   "outputs": [],
   "source": [
    "from jupyter_jsmol import JsmolView\n",
    "\n",
    "JsmolView.from_ase(atoms)"
   ]
  },
  {
   "cell_type": "markdown",
   "metadata": {},
   "source": [
    "Graphene nanoribbons"
   ]
  },
  {
   "cell_type": "code",
   "execution_count": null,
   "metadata": {},
   "outputs": [],
   "source": [
    "from ase.visualize import view\n",
    "from ase.build import graphene_nanoribbon\n",
    "\n",
    "gnr1 = graphene_nanoribbon(3, 4, type='armchair', saturated=True, vacuum=3.5)\n",
    "view(gnr1, viewer='x3d')\n"
   ]
  },
  {
   "cell_type": "code",
   "execution_count": null,
   "metadata": {},
   "outputs": [],
   "source": [
    "from ase.visualize import view\n",
    "from ase.build import graphene_nanoribbon\n",
    "\n",
    "gnr2 = graphene_nanoribbon(2, 6, type='zigzag', saturated=True, C_H=1.1, C_C=1.4, vacuum=3.0, magnetic=True, initial_mag=1.12)\n",
    "view(gnr2, viewer='x3d')"
   ]
  },
  {
   "cell_type": "markdown",
   "metadata": {},
   "source": [
    "Nanostructures: Generating regular icosahedron structure\n",
    "\n"
   ]
  },
  {
   "cell_type": "code",
   "execution_count": null,
   "metadata": {},
   "outputs": [],
   "source": [
    "from ase.data import atomic_numbers, reference_states\n",
    "from ase.cluster import Icosahedron\n",
    "from ase.visualize import view"
   ]
  },
  {
   "cell_type": "code",
   "execution_count": null,
   "metadata": {},
   "outputs": [],
   "source": [
    "atomic_number = atomic_numbers['Ag']\n",
    "reference_state = reference_states[atomic_number]\n",
    "latticeconstant = reference_state['a']\n",
    "reference_state"
   ]
  },
  {
   "cell_type": "code",
   "execution_count": null,
   "metadata": {},
   "outputs": [],
   "source": [
    "cluster = Icosahedron(atomic_number, noshells=8, latticeconstant=latticeconstant)\n",
    "\n",
    "print(f'Number of atoms: {len(cluster)}')\n",
    "cluster"
   ]
  },
  {
   "cell_type": "code",
   "execution_count": null,
   "metadata": {},
   "outputs": [],
   "source": [
    "# from jupyter_jsmol import JsmolView\n",
    "# \n",
    "# view = JsmolView.from_ase(cluster)\n",
    "# display(view)\n",
    "\n",
    "from ase.visualize import view\n",
    "view(cluster, viewer='x3d')"
   ]
  },
  {
   "cell_type": "markdown",
   "metadata": {},
   "source": [
    "Surfaces"
   ]
  },
  {
   "cell_type": "code",
   "execution_count": null,
   "metadata": {},
   "outputs": [],
   "source": [
    "from ase.build import fcc111\n",
    "\n",
    "slab = fcc111('Al', size=(2,2,3), vacuum=10.0)"
   ]
  },
  {
   "cell_type": "code",
   "execution_count": null,
   "metadata": {},
   "outputs": [],
   "source": [
    "from pymatgen.core import Structure\n",
    "from pymatgen.core.surface import SlabGenerator\n",
    "\n",
    "from pymatgen.io.xyz import XYZ\n",
    "from pymatgen.ext.matproj import MPRester\n",
    "from pymatgen.symmetry.analyzer import SpacegroupAnalyzer\n",
    "\n",
    "# from pymatgen_plotly import Figure"
   ]
  },
  {
   "cell_type": "code",
   "execution_count": null,
   "metadata": {},
   "outputs": [],
   "source": [
    "# Import structure from materialsproject\n",
    "\n",
    "with MPRester(\"qTl8BmZIdpLbex1w\") as m:\n",
    "\n",
    "    # Structure for material id\n",
    "    structure = m.get_structure_by_material_id(\"mp-8352\")\n",
    "\n",
    "structure"
   ]
  },
  {
   "cell_type": "code",
   "execution_count": null,
   "metadata": {},
   "outputs": [],
   "source": [
    "# converting primitive cell to convetional\n",
    "\n",
    "sga = SpacegroupAnalyzer(structure)\n",
    "conv_structure = sga.get_conventional_standard_structure()"
   ]
  },
  {
   "cell_type": "code",
   "execution_count": null,
   "metadata": {},
   "outputs": [],
   "source": [
    "# f = Figure()\n",
    "# f.addx_structure(conv_structure)\n",
    "# f.add_unitcell(conv_structure)\n",
    "# f.show()\n",
    "\n",
    "from jupyter_jsmol import JsmolView\n",
    "\n",
    "JsmolView.from_str(conv_structure.to('cif'), \"{1 1 1}\")\n"
   ]
  },
  {
   "cell_type": "code",
   "execution_count": null,
   "metadata": {},
   "outputs": [],
   "source": [
    "# Creating a slab\n",
    "slab = SlabGenerator(conv_structure.copy(), \n",
    "                     miller_index=(1,1,1), \n",
    "                     min_slab_size=3, \n",
    "                     min_vacuum_size=5, \n",
    "                     in_unit_planes=True, \n",
    "                     center_slab=True).get_slab().get_orthogonal_c_slab()\n"
   ]
  },
  {
   "cell_type": "code",
   "execution_count": null,
   "metadata": {},
   "outputs": [],
   "source": [
    "# f = Figure()\n",
    "# f.add_structure(slab, supercell=(2,2,1))\n",
    "# f.add_unitcell(slab)\n",
    "# f.show()\n",
    "\n",
    "from jupyter_jsmol import JsmolView\n",
    "\n",
    "JsmolView.from_str(slab.to('cif'), \"{2 2 1}\")\n"
   ]
  },
  {
   "cell_type": "code",
   "execution_count": null,
   "metadata": {},
   "outputs": [],
   "source": []
  }
 ],
 "metadata": {
  "interpreter": {
   "hash": "262d35cc04ba3798c288ac1885c582df3e6c9c9d57ef53e44c04c1109cb68079"
  },
  "kernelspec": {
   "display_name": "Python 3 (ipykernel)",
   "language": "python",
   "name": "python3"
  },
  "language_info": {
   "codemirror_mode": {
    "name": "ipython",
    "version": 3
   },
   "file_extension": ".py",
   "mimetype": "text/x-python",
   "name": "python",
   "nbconvert_exporter": "python",
   "pygments_lexer": "ipython3",
   "version": "3.9.5"
  }
 },
 "nbformat": 4,
 "nbformat_minor": 2
}
