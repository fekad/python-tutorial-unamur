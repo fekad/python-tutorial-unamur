{
 "cells": [
  {
   "cell_type": "markdown",
   "metadata": {},
   "source": [
    "# Interfaces/calculators"
   ]
  },
  {
   "cell_type": "markdown",
   "metadata": {},
   "source": [
    "## ASE Calculator: Equation of state (EOS)\n",
    "\n",
    "First, do a bulk calculation for different lattice constants:\n",
    "\n"
   ]
  },
  {
   "cell_type": "code",
   "execution_count": null,
   "metadata": {},
   "outputs": [],
   "source": [
    "import numpy as np\n",
    "\n",
    "from ase import Atoms\n",
    "from ase.io.trajectory import Trajectory\n",
    "from ase.calculators.emt import EMT\n",
    "\n",
    "a = 4.0  # approximate lattice constant\n",
    "b = a / 2\n",
    "ag = Atoms('Ag',\n",
    "           cell=[(0, b, b), (b, 0, b), (b, b, 0)],\n",
    "           pbc=1,\n",
    "           calculator=EMT())  # use EMT potential\n",
    "cell = ag.get_cell()\n",
    "\n",
    "# Extract volumes and energies:\n",
    "volumes = []\n",
    "energies = []\n",
    "\n",
    "for x in np.linspace(0.95, 1.05, 5):\n",
    "    ag.set_cell(cell * x, scale_atoms=True)\n",
    "    energies.append(ag.get_potential_energy())\n",
    "    volumes.append(ag.get_volume())\n"
   ]
  },
  {
   "cell_type": "markdown",
   "metadata": {},
   "source": [
    "This will write a trajectory file containing five configurations of FCC silver for five different lattice constants. Now, analyse the result with the `EquationOfState` class and this script:"
   ]
  },
  {
   "cell_type": "code",
   "execution_count": null,
   "metadata": {},
   "outputs": [],
   "source": [
    "from ase.units import kJ\n",
    "from ase.eos import EquationOfState\n",
    "\n",
    "# configs = read('Ag.traj@0:5')  # read 5 configurations\n",
    "\n",
    "eos = EquationOfState(volumes, energies)\n",
    "v0, e0, B = eos.fit()\n",
    "print(B / kJ * 1.0e24, 'GPa')\n",
    "eos.plot()"
   ]
  },
  {
   "cell_type": "markdown",
   "metadata": {},
   "source": [
    "## Generating input for Gaussian (or run it locally if available)"
   ]
  },
  {
   "cell_type": "markdown",
   "metadata": {},
   "source": [
    "Defining all of the helper functions"
   ]
  },
  {
   "cell_type": "code",
   "execution_count": null,
   "metadata": {},
   "outputs": [],
   "source": [
    "from pathlib import Path\n",
    "from inspect import cleandoc\n",
    "\n",
    "def generate_calc_raman(atoms,inp_file, method='B3LYP', basis='3-21G', nprocs=16, mem=7500, ):\n",
    "    \"\"\"Input file for the Gaussian calculation\n",
    "    \n",
    "    Args:\n",
    "        atoms (Atoms): ASE Atoms object of the structure\n",
    "        method (str): Name of the method (defualt: 'B3LYP')\n",
    "        basis (str): Name of the basis set (defualt:'3-21G')\n",
    "        nprocs (int): Number of cores used on the node\n",
    "        mem (int): Memory in MB per CPU core\n",
    "    \"\"\"\n",
    "    \n",
    "    template = cleandoc(\n",
    "        \"\"\"\n",
    "        %NProcShared={nprocs}\n",
    "        %mem={mem}MB\n",
    "        %chk={jobname}.chk\n",
    "        #P {method}/{basis} OPT(CalcAll) FREQ(Raman)\n",
    "        \n",
    "        {name}\n",
    "        \n",
    "        0 1\n",
    "        {structure}\n",
    "        \"\"\")\n",
    "    \n",
    "    structure = '\\n'.join('{} {} {} {}'.format(atom.symbol, *atom.position) for atom in atoms)\n",
    "    \n",
    "    return template.format(\n",
    "        method=method,\n",
    "        basis=basis,\n",
    "        name=atoms.get_chemical_formula(),\n",
    "        structure=structure,\n",
    "        nprocs=nprocs,\n",
    "        mem=nprocs*mem,\n",
    "        jobname=inp_file.stem\n",
    "    )\n",
    "    \n",
    "\n",
    "def generate_job_script(inp_file, nprocs=16, mem=7500, time=24):\n",
    "    \"\"\"Job script for the hercules node for gaussian calculations\n",
    "\n",
    "    Args:\n",
    "        nprocs (int): Number of cores used on the node\n",
    "        mem (int): Memory in MB per CPU core\n",
    "        time (int): The walltime in hours\n",
    "    \"\"\"\n",
    "    \n",
    "    template = cleandoc(\n",
    "        \"\"\"\n",
    "        #!/bin/bash\n",
    "        \n",
    "        #SBATCH --job-name={jobname}\n",
    "        #SBATCH --time={time}:00:00       # hh:mm:ss\n",
    "        #SBATCH --nodes=1                 # Number of nodes to use\n",
    "        #SBATCH --ntasks-per-node=1       # Number of tasks per node (aka MPI processes)\n",
    "        #SBATCH --cpus-per-task={nprocs}  # Number of cpus per task (aka OpenMP threads)\n",
    "        #SBATCH --mem-per-cpu={mem}       # megabytes\n",
    "        \n",
    "        module load Gaussian/16_A03-PGI-16.5\n",
    "        \n",
    "        echo \"Node: $(hostname)\"\n",
    "        echo \"Gaussian Path: $(which g16)\"\n",
    "\n",
    "        export GAUSS_SCRDIR=\"$TMPDIR\"\n",
    "        \n",
    "        g16 {inp_file} \n",
    "        \"\"\")\n",
    "    \n",
    "    return template.format(\n",
    "        jobname=inp_file.stem,\n",
    "        time=time,\n",
    "        nprocs=nprocs,\n",
    "        mem=mem,\n",
    "        inp_file=inp_file\n",
    "    )\n",
    "    \n",
    "\n",
    "def construct_filename(filename, method, basis):\n",
    "    \n",
    "    for char in ['(', ')', ',']:\n",
    "        basis = basis.replace(char, '')\n",
    "\n",
    "\n",
    "    return filename.stem + '_' + method + '_' + basis"
   ]
  },
  {
   "cell_type": "markdown",
   "metadata": {},
   "source": [
    "Structure and other parameters"
   ]
  },
  {
   "cell_type": "code",
   "execution_count": null,
   "metadata": {},
   "outputs": [],
   "source": [
    "from ase.io import read\n",
    "\n",
    "\n",
    "structfile = Path('data/benzene.xyz')\n",
    "atoms = read(structfile)\n",
    "\n",
    "folder = Path('gaussian/')\n",
    "\n",
    "methods = ['B3LYP', 'PBEPBE', \"MP2\"]\n",
    "basis_sets = ['3-21G', '6-31G(d)', '6-311+G(2d,p)']\n",
    "\n",
    "nprocs = 1\n",
    "mem = 3500 # MB per CPU core\n",
    "walltime = 1 # hours\n"
   ]
  },
  {
   "cell_type": "markdown",
   "metadata": {},
   "source": [
    "Generating input files"
   ]
  },
  {
   "cell_type": "code",
   "execution_count": null,
   "metadata": {},
   "outputs": [],
   "source": [
    "for method in methods:\n",
    "    for basis in basis_sets:\n",
    "        \n",
    "        basename = Path(construct_filename(structfile, method, basis))\n",
    "        \n",
    "        print(basename)\n",
    "\n",
    "        with open(folder / basename.with_suffix('.inp'), 'w') as f:\n",
    "            f.write(generate_calc_raman(atoms,basename.with_suffix('.inp'), method, basis, nprocs, mem))\n",
    "            f.write('\\n\\n')\n",
    "\n",
    "        with open(folder / basename.with_suffix('.sh'), 'w') as f:\n",
    "            f.write(generate_job_script(basename.with_suffix('.inp'), nprocs, mem, walltime))\n",
    "            f.write('\\n\\n')"
   ]
  },
  {
   "cell_type": "markdown",
   "metadata": {},
   "source": [
    "## Using pymatgen"
   ]
  },
  {
   "cell_type": "code",
   "execution_count": null,
   "metadata": {},
   "outputs": [],
   "source": [
    "from pymatgen.io.xyz import XYZ\n",
    "from pymatgen.io.gaussian import GaussianInput"
   ]
  },
  {
   "cell_type": "code",
   "execution_count": null,
   "metadata": {},
   "outputs": [],
   "source": [
    "structure = XYZ.from_file('data/benzene.xyz').molecule\n",
    "inp = GaussianInput(\n",
    "    structure,\n",
    "    title='benzene',\n",
    "    functional='B3LYP',\n",
    "    basis_set='6-311+G(2d,p)',\n",
    "    route_parameters={'OPT':'CalcAll', 'FREQ':'Raman'},\n",
    "    input_parameters=None,\n",
    "    link0_parameters={\n",
    "        '%NProcShared': 1,\n",
    "        '%mem':'3500MB',\n",
    "        '%chk':'benzene_B3LYP_6-311+G2dp.chk'\n",
    "    }\n",
    ")\n",
    "\n",
    "print(inp.to_string(cart_coords=True))"
   ]
  },
  {
   "cell_type": "code",
   "execution_count": null,
   "metadata": {},
   "outputs": [],
   "source": []
  }
 ],
 "metadata": {
  "interpreter": {
   "hash": "262d35cc04ba3798c288ac1885c582df3e6c9c9d57ef53e44c04c1109cb68079"
  },
  "kernelspec": {
   "display_name": "Python 3 (ipykernel)",
   "language": "python",
   "name": "python3"
  },
  "language_info": {
   "codemirror_mode": {
    "name": "ipython",
    "version": 3
   },
   "file_extension": ".py",
   "mimetype": "text/x-python",
   "name": "python",
   "nbconvert_exporter": "python",
   "pygments_lexer": "ipython3",
   "version": "3.9.5"
  }
 },
 "nbformat": 4,
 "nbformat_minor": 2
}
