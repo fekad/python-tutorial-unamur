{
 "cells": [
  {
   "cell_type": "markdown",
   "metadata": {},
   "source": [
    "# Manipulating/Composing structures "
   ]
  },
  {
   "cell_type": "markdown",
   "metadata": {},
   "source": [
    "## Bulding graphene structures"
   ]
  },
  {
   "cell_type": "code",
   "execution_count": null,
   "id": "28b18929",
   "metadata": {},
   "outputs": [],
   "source": [
    "import numpy as np\n",
    "from matplotlib import pyplot as plt\n",
    "\n",
    "from scipy.stats import multivariate_normal\n",
    "\n",
    "from ase import Atoms\n",
    "from ase.io import write\n",
    "from ase.build import make_supercell\n",
    "from ase.lattice.hexagonal import Graphene\n",
    "\n",
    "from pymatgen.io.ase import AseAtomsAdaptor\n",
    "\n",
    "from jupyter_jsmol import JsmolView\n",
    "from jupyter_jsmol.pymatgen import quick_view"
   ]
  },
  {
   "cell_type": "markdown",
   "id": "7155ac8c",
   "metadata": {},
   "source": [
    "Lattice paramter and the height of the cell:"
   ]
  },
  {
   "cell_type": "code",
   "execution_count": null,
   "id": "bcf41e90",
   "metadata": {},
   "outputs": [],
   "source": [
    "# Paramteres\n",
    "\n",
    "a = 2.46\n",
    "c = 5."
   ]
  },
  {
   "cell_type": "markdown",
   "id": "413ed242",
   "metadata": {},
   "source": [
    "Building from primitive cell"
   ]
  },
  {
   "cell_type": "markdown",
   "id": "5e9a3376",
   "metadata": {},
   "source": [
    "method 1:"
   ]
  },
  {
   "cell_type": "code",
   "execution_count": null,
   "id": "65863f4f",
   "metadata": {},
   "outputs": [],
   "source": [
    "atoms = Graphene('C', latticeconstant={'a':a,'c':c})"
   ]
  },
  {
   "cell_type": "code",
   "execution_count": null,
   "id": "e05f15c3",
   "metadata": {},
   "outputs": [],
   "source": [
    "JsmolView.from_ase(make_supercell(atoms, np.diag([5,5,1])))\n",
    "# quick_view(AseAtomsAdaptor().get_structure(atoms), supercell=(5,5,1))"
   ]
  },
  {
   "cell_type": "markdown",
   "id": "bc2989bd",
   "metadata": {},
   "source": [
    "method 2:"
   ]
  },
  {
   "cell_type": "code",
   "execution_count": null,
   "id": "8d226c56",
   "metadata": {},
   "outputs": [],
   "source": [
    "atoms = Atoms(\n",
    "    symbols='C2', \n",
    "    pbc=[True, True, False],\n",
    "    cell=[(np.sqrt(3) / 2 * a,  a / 2, 0),\n",
    "          (np.sqrt(3) / 2 * a, -a / 2, 0),\n",
    "          (               0.0,    0.0, c)], \n",
    "    positions=[\n",
    "        ( np.sqrt(3) / 6 * a, a / 2, 0.0),\n",
    "        (-np.sqrt(3) / 6 * a, a / 2, 0.0)\n",
    "    ]\n",
    "\n",
    ")\n",
    "\n",
    "super_atoms = make_supercell(atoms, np.diag([5,5,1]))"
   ]
  },
  {
   "cell_type": "code",
   "execution_count": null,
   "id": "2cbb7171",
   "metadata": {},
   "outputs": [],
   "source": [
    "coords = super_atoms.get_positions()\n",
    "\n",
    "fig = plt.figure()\n",
    "ax = fig.add_subplot(111)\n",
    "ax.scatter(coords[:,0],coords[:,1])\n",
    "ax.axis('equal');"
   ]
  },
  {
   "cell_type": "code",
   "execution_count": null,
   "metadata": {},
   "outputs": [],
   "source": [
    "from ase.visualize import view\n",
    "\n",
    "view(super_atoms, viewer='x3d')"
   ]
  },
  {
   "cell_type": "markdown",
   "id": "7cdd880e",
   "metadata": {},
   "source": [
    "## Introducing corrugation"
   ]
  },
  {
   "cell_type": "markdown",
   "id": "812c6ffb",
   "metadata": {},
   "source": [
    "The depth of the corrugation can approximated with a gaussian function:"
   ]
  },
  {
   "cell_type": "code",
   "execution_count": null,
   "id": "1d336eba",
   "metadata": {},
   "outputs": [],
   "source": [
    "# centered multivariate gaussian function\n",
    "center = super_atoms.get_center_of_mass()\n",
    "mean = center[0:2]\n",
    "cov = np.diag([4.,4.])\n",
    "\n",
    "rv = multivariate_normal(mean, cov)"
   ]
  },
  {
   "cell_type": "code",
   "execution_count": null,
   "id": "c9a70c32",
   "metadata": {},
   "outputs": [],
   "source": [
    "# visualisation of the gaussian function\n",
    "\n",
    "x, y = np.mgrid[min(coords[:,0]):max(coords[:,0]):.01, min(coords[:,1]):max(coords[:,1]):.01]\n",
    "pos = np.dstack((x, y))\n",
    "\n",
    "fig = plt.figure()\n",
    "ax = fig.add_subplot(111)\n",
    "ax.contourf(x, y, rv.pdf(pos))\n",
    "ax.axis('equal')"
   ]
  },
  {
   "cell_type": "code",
   "execution_count": null,
   "id": "12e91be7",
   "metadata": {},
   "outputs": [],
   "source": [
    "z_comp = rv.pdf(coords[:, 0:2])\n",
    "z_comp /= max(z_comp)"
   ]
  },
  {
   "cell_type": "code",
   "execution_count": null,
   "id": "4ea75969",
   "metadata": {},
   "outputs": [],
   "source": [
    "A = 2.5 # amplitude\n",
    "super_atoms.arrays[\"positions\"][:,2] = A * z_comp"
   ]
  },
  {
   "cell_type": "code",
   "execution_count": null,
   "id": "0d95d55d",
   "metadata": {
    "scrolled": false
   },
   "outputs": [],
   "source": [
    "from ase.visualize import view\n",
    "\n",
    "view(super_atoms, viewer='x3d')"
   ]
  }
 ],
 "metadata": {
  "interpreter": {
   "hash": "262d35cc04ba3798c288ac1885c582df3e6c9c9d57ef53e44c04c1109cb68079"
  },
  "kernelspec": {
   "display_name": "Python 3 (ipykernel)",
   "language": "python",
   "name": "python3"
  },
  "language_info": {
   "codemirror_mode": {
    "name": "ipython",
    "version": 3
   },
   "file_extension": ".py",
   "mimetype": "text/x-python",
   "name": "python",
   "nbconvert_exporter": "python",
   "pygments_lexer": "ipython3",
   "version": "3.9.5"
  }
 },
 "nbformat": 4,
 "nbformat_minor": 2
}
